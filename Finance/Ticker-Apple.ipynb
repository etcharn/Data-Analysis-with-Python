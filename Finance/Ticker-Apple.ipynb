{
 "cells": [
  {
   "cell_type": "markdown",
   "id": "6127468e-06dd-49fe-ba57-d95ad09c77d3",
   "metadata": {},
   "source": [
    "**Import**\n"
   ]
  },
  {
   "cell_type": "code",
   "execution_count": 1,
   "id": "351f58c4-7750-42f1-bfd5-6242f9ce3827",
   "metadata": {},
   "outputs": [],
   "source": [
    "import pandas as pd\n",
    "import yfinance as yf"
   ]
  },
  {
   "cell_type": "code",
   "execution_count": 2,
   "id": "0a4f11e2-b5c6-49f4-be06-a510156f11fc",
   "metadata": {},
   "outputs": [
    {
     "name": "stderr",
     "output_type": "stream",
     "text": [
      "[*********************100%%**********************]  1 of 1 completed\n"
     ]
    },
    {
     "ename": "TypeError",
     "evalue": "DataFrame.reset_index() got an unexpected keyword argument 'inplac'",
     "output_type": "error",
     "traceback": [
      "\u001b[1;31m---------------------------------------------------------------------------\u001b[0m",
      "\u001b[1;31mTypeError\u001b[0m                                 Traceback (most recent call last)",
      "Cell \u001b[1;32mIn[2], line 5\u001b[0m\n\u001b[0;32m      3\u001b[0m \u001b[38;5;66;03m# download information of Apple stock from start date to end date\u001b[39;00m\n\u001b[0;32m      4\u001b[0m data \u001b[38;5;241m=\u001b[39m yf\u001b[38;5;241m.\u001b[39mdownload(ticker, start\u001b[38;5;241m=\u001b[39m\u001b[38;5;124m\"\u001b[39m\u001b[38;5;124m2019-01-01\u001b[39m\u001b[38;5;124m\"\u001b[39m, end\u001b[38;5;241m=\u001b[39m\u001b[38;5;124m\"\u001b[39m\u001b[38;5;124m2022-12-31\u001b[39m\u001b[38;5;124m\"\u001b[39m)\n\u001b[1;32m----> 5\u001b[0m data\u001b[38;5;241m.\u001b[39mreset_index(inplac\u001b[38;5;241m=\u001b[39m\u001b[38;5;28;01mTrue\u001b[39;00m)\n\u001b[0;32m      6\u001b[0m data\n",
      "\u001b[1;31mTypeError\u001b[0m: DataFrame.reset_index() got an unexpected keyword argument 'inplac'"
     ]
    }
   ],
   "source": [
    "# Assign apple as ticker\n",
    "ticker = \"AAPL\"\n",
    "# download information of Apple stock from start date to end date\n",
    "data = yf.download(ticker, start=\"2019-01-01\", end=\"2022-12-31\")\n",
    "data.reset_index(inplac=True)\n",
    "data"
   ]
  },
  {
   "cell_type": "code",
   "execution_count": null,
   "id": "66c15cd6-ea99-4771-b8e6-f6ee550e261c",
   "metadata": {},
   "outputs": [],
   "source": []
  }
 ],
 "metadata": {
  "kernelspec": {
   "display_name": "Python 3 (ipykernel)",
   "language": "python",
   "name": "python3"
  },
  "language_info": {
   "codemirror_mode": {
    "name": "ipython",
    "version": 3
   },
   "file_extension": ".py",
   "mimetype": "text/x-python",
   "name": "python",
   "nbconvert_exporter": "python",
   "pygments_lexer": "ipython3",
   "version": "3.11.7"
  }
 },
 "nbformat": 4,
 "nbformat_minor": 5
}
